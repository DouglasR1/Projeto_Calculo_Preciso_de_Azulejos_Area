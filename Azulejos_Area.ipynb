{
  "nbformat": 4,
  "nbformat_minor": 0,
  "metadata": {
    "colab": {
      "provenance": [],
      "authorship_tag": "ABX9TyMEG1Qf86R8U6NWMK0yDXtw",
      "include_colab_link": true
    },
    "kernelspec": {
      "name": "python3",
      "display_name": "Python 3"
    },
    "language_info": {
      "name": "python"
    }
  },
  "cells": [
    {
      "cell_type": "markdown",
      "metadata": {
        "id": "view-in-github",
        "colab_type": "text"
      },
      "source": [
        "<a href=\"https://colab.research.google.com/github/DouglasR1/Projeto_Calculo_Preciso_de_Azulejos_Area/blob/main/Azulejos_Area.ipynb\" target=\"_parent\"><img src=\"https://colab.research.google.com/assets/colab-badge.svg\" alt=\"Open In Colab\"/></a>"
      ]
    },
    {
      "cell_type": "code",
      "source": [
        "# Criando um Projeto de Calculo de Area com Azulejos para um preciso resultado e preenchimento correto\n",
        "# Douglas Rodrigues Cezário \n",
        "# 20/03/2023"
      ],
      "metadata": {
        "id": "wKcvq74A12CN"
      },
      "execution_count": 16,
      "outputs": []
    },
    {
      "cell_type": "code",
      "source": [
        "class Retangulo:\n",
        "    def __init__(self, lado_a, lado_b):\n",
        "        self.a= lado_a\n",
        "        self.b= lado_b\n",
        "    def muda_valor(self,novo_a, novo_b):\n",
        "        self.a= novo_a\n",
        "        self.b= novo_b\n",
        "    def retorna_lado(self):\n",
        "        print(f'O Retângulo possui demensões {self.a}m x {self.b}m')\n",
        "    def area(self):\n",
        "        return self.a* self.b"
      ],
      "metadata": {
        "id": "-66o4C_022R9"
      },
      "execution_count": 17,
      "outputs": []
    },
    {
      "cell_type": "code",
      "source": [
        "import math\n",
        "\n",
        "while True:\n",
        "    piso_a= float(input(\"Digite um lado do piso: \"))\n",
        "    piso_b= float(input(\"Digite o outro lado de piso: \"))\n",
        "\n",
        "    piso= Retangulo(piso_a, piso_b)\n",
        "\n",
        "    az_a= float(input(\"Digite o lado do azulejo: \"))\n",
        "    az_b= float(input(\"Digite o outro lado do azulejo: \"))\n",
        "\n",
        "    azulejo= Retangulo(az_a, az_b)\n",
        "\n",
        "    area_piso= piso.area()\n",
        "    area_az= azulejo.area()\n",
        "\n",
        "    qntd_az= area_piso/ area_az\n",
        "\n",
        "    if area_piso% area_az== 0:\n",
        "        print(f'A quantidade exata de azulejos para preencher o piso é de {qntd_az}')\n",
        "    else:\n",
        "        print(f'A quantidade mínima de azulejos para preencher o piso é de {math.ceil(qntd_az)}')\n"
      ],
      "metadata": {
        "id": "ct7PViM56j6B"
      },
      "execution_count": null,
      "outputs": []
    }
  ]
}